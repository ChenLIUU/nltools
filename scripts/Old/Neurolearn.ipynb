{
 "metadata": {
  "name": "",
  "signature": "sha256:4b323a3cf43768e80550b404b89a414b3acb1fb91dbbb2725391bcb11bca4cf8"
 },
 "nbformat": 3,
 "nbformat_minor": 0,
 "worksheets": [
  {
   "cells": [
    {
     "cell_type": "markdown",
     "metadata": {},
     "source": [
      "<h1>Neurolearn</h1>\n",
      "<h3>This notebook downloads a private collection from neurovault and runs an SVM.</h3>\n",
      "<br>\n",
      "<h3>To Do:</h3>\n",
      "<p>\n",
      "    <ol>\n",
      "        <li>Need to figure out how to tag single subject data with meta-data in neurovault</li>\n",
      "        <li>Need to validate Python results on Matlab</li>\n",
      "        <li>Need to recreate ROC and accuracy from Matlab in Python</li>\n",
      "        <li>Need to create analysis class</li>\n",
      "    </ol>\n",
      "</p>\n",
      "\n",
      "\n"
     ]
    },
    {
     "cell_type": "heading",
     "level": 2,
     "metadata": {},
     "source": [
      "Function Definitions"
     ]
    },
    {
     "cell_type": "code",
     "collapsed": false,
     "input": [
      "\"\"\" Code to grab a private collection from NeuroVault, and compute an SVM discriminating between negative and neutral images\n",
      "\"\"\"\n",
      "# Authors: Luke Chang, Chris Filo Gorgolewski, Gael Varoquaux\n",
      "# License: BSD\n",
      "\n",
      "import os\n",
      "import json\n",
      "import urllib, os, errno\n",
      "from urllib2 import Request, urlopen, HTTPError\n",
      "import pandas as pd\n",
      "from pandas.io.json import json_normalize\n",
      "import numpy as np\n",
      "from nipype.utils.filemanip import split_filename\n",
      "import nibabel as nb\n",
      "from joblib import Memory\n",
      "from nilearn.input_data import NiftiMasker\n",
      "from nilearn.plotting import *\n",
      "from nilearn.image import resample_img, mean_img\n",
      "from nilearn.masking import compute_background_mask, _extrapolate_out_mask\n",
      "from sklearn.svm import SVC\n",
      "from sklearn.cross_validation import KFold, StratifiedKFold, LeaveOneLabelOut \n",
      "from sklearn.metrics import roc_curve, auc\n",
      "from scipy import interp\n",
      "import matplotlib.pyplot as plt\n",
      "import time\n",
      "import seaborn as sns\n",
      "from nltools.analysis import Predict\n",
      "%matplotlib inline\n",
      "\n",
      "# Github Project Root\n",
      "basedir = os.path.abspath('..')\n",
      "\n",
      "# Set Paths\n",
      "dest_dir = \"/Users/lukechang/Dropbox/NEPA/Test_Analysis\"\n",
      "canonical = os.path.join(basedir,\"resources/MNI152_T1_2mm.nii.gz\")\n",
      "\n",
      "# Use a joblib memory, to avoid depending on an Internet connection\n",
      "mem = Memory(cachedir='/tmp/neurovault_analysis/cache')\n",
      "\n",
      "def url_get(url):\n",
      "    request = Request(url)\n",
      "    response = urlopen(request)\n",
      "    return response.read()\n",
      "\n",
      "def mkdir_p(path):\n",
      "    try:\n",
      "        os.makedirs(path)\n",
      "    except OSError as exc: # Python >2.5\n",
      "        if exc.errno == errno.EEXIST and os.path.isdir(path):\n",
      "            pass\n",
      "        else: raise\n",
      "      \n",
      "def get_collections_df(key = None):\n",
      "    \"\"\"Downloads metadata about collections/papers stored in NeuroVault and\n",
      "    return it as a pandas DataFrame\"\"\"\n",
      "\n",
      "    if key is None:\n",
      "        request = Request('http://neurovault.org/api/collections/?format=json')\n",
      "    else:\n",
      "        request=Request('http://neurovault.org/api/collections/' + key + '?format=json')\n",
      "    response = urlopen(request)\n",
      "    elevations = response.read()\n",
      "    data = json.loads(elevations)\n",
      "    collections_df = json_normalize(data)\n",
      "    collections_df.rename(columns={'id':'collection_id'}, inplace=True)\n",
      "    collections_df.set_index(\"collection_id\")\n",
      "\n",
      "    return collections_df\n",
      "\n",
      "def get_images_df():\n",
      "    \"\"\"Downloads metadata about images/statistical maps stored in NeuroVault and \n",
      "    return it as a pandas DataFrame\"\"\"\n",
      "\n",
      "    request = Request('http://neurovault.org/api/images/?format=json')\n",
      "    response = urlopen(request)\n",
      "    elevations = response.read()\n",
      "    data = json.loads(elevations)\n",
      "    images_df = json_normalize(data)\n",
      "    images_df['collection'] = images_df['collection'].apply(lambda x: int(x.split(\"/\")[-2]))\n",
      "    images_df['image_id'] = images_df['url'].apply(lambda x: int(x.split(\"/\")[-2]))\n",
      "    images_df.rename(columns={'collection':'collection_id'}, inplace=True)\n",
      "    return images_df\n",
      "\n",
      "def get_images_with_private_collections_df(key=None):\n",
      "    \"\"\"Downloads metadata about images/statistical maps stored in NeuroVault and\n",
      "    and enriches it with metadata of the corresponding collections. The result \n",
      "    is returned as a pandas DataFrame\"\"\"\n",
      "    \n",
      "    collections_df = get_collections_df(key=key)\n",
      "    images_df = get_images_df()\n",
      "\n",
      "    combined_df = pd.merge(images_df, collections_df, how='inner', on='collection_id',\n",
      "                      suffixes=('_image', '_collection'))\n",
      "    return combined_df\n",
      "\n",
      "def get_images_with_collections_df():\n",
      "    \"\"\"Downloads metadata about images/statistical maps stored in NeuroVault and\n",
      "    and enriches it with metadata of the corresponding collections. The result \n",
      "    is returned as a pandas DataFrame\"\"\"\n",
      "    \n",
      "    collections_df = get_collections_df()\n",
      "    images_df = get_images_df()\n",
      "\n",
      "    combined_df = pd.merge(images_df, collections_df, how='left', on='collection_id',\n",
      "                      suffixes=('_image', '_collection'))\n",
      "    return combined_df\n",
      "\n",
      "def download_and_resample(images_df, dest_dir, target):\n",
      "    \"\"\"Downloads all stat maps and resamples them to a common space.\n",
      "    \"\"\"\n",
      "\n",
      "    target_nii = nb.load(target)\n",
      "    orig_path = os.path.join(dest_dir, \"original\")\n",
      "    mkdir_p(orig_path)\n",
      "    resampled_path = os.path.join(dest_dir, \"resampled\")\n",
      "    mkdir_p(resampled_path)\n",
      "    out_df = combined_df.copy()\n",
      "\n",
      "    for row in combined_df.iterrows():\n",
      "        # Downloading the file to the \"original\" subfolder\n",
      "        _, _, ext = split_filename(row[1]['file'])\n",
      "        orig_file = os.path.join(orig_path, \"%04d%s\" % (row[1]['image_id'], ext))\n",
      "        if not os.path.exists(orig_file):\n",
      "            print \"Downloading %s\" % orig_file\n",
      "            urllib.urlretrieve(row[1]['file'], orig_file)\n",
      "\n",
      "        # Compute the background and extrapolate outside of the mask\n",
      "        print \"Extrapolating %s\" % orig_file\n",
      "        niimg = nb.load(orig_file)\n",
      "        data = niimg.get_data().squeeze()\n",
      "        niimg = nb.Nifti1Image(data, niimg.affine,\n",
      "                               header=niimg.get_header())\n",
      "        bg_mask = compute_background_mask(niimg).get_data()\n",
      "        # Test if the image has been masked:\n",
      "        out_of_mask = data[np.logical_not(bg_mask)]\n",
      "        if np.all(np.isnan(out_of_mask)) or len(np.unique(out_of_mask)) == 1:\n",
      "            # Need to extrapolate\n",
      "            data = _extrapolate_out_mask(data.astype(np.float), bg_mask,\n",
      "                                         iterations=3)[0]\n",
      "        niimg = nb.Nifti1Image(data, niimg.affine,\n",
      "                               header=niimg.get_header())\n",
      "        del out_of_mask, bg_mask\n",
      "        # Resampling the file to target and saving the output in the \"resampled\"\n",
      "        # folder\n",
      "        resampled_file = os.path.join(resampled_path,\n",
      "                                      \"%06d%s\" % (row[1]['image_id'], ext))\n",
      "\n",
      "        print \"Resampling %s\" % orig_file\n",
      "        resampled_nii = resample_img(niimg, target_nii.get_affine(),\n",
      "            target_nii.shape)\n",
      "        resampled_nii = nb.Nifti1Image(resampled_nii.get_data().squeeze(),\n",
      "                                       resampled_nii.get_affine(),\n",
      "                                       header=niimg.get_header())\n",
      "        if len(resampled_nii.shape) == 3:\n",
      "            resampled_nii.to_filename(resampled_file)\n",
      "        else:\n",
      "            # We have a 4D file\n",
      "            assert len(resampled_nii.shape) == 4\n",
      "            resampled_data = resampled_nii.get_data()\n",
      "            affine = resampled_nii.affine\n",
      "            for index in range(resampled_nii.shape[-1]):\n",
      "                # First save the files separately\n",
      "                this_nii = nb.Nifti1Image(resampled_data[..., index],\n",
      "                                            affine)\n",
      "                this_id = int(\"%i%i\" % (-row[1]['image_id'], index))\n",
      "                this_file = os.path.join(resampled_path,\n",
      "                    \"%06d%s\" % (this_id, ext))\n",
      "                this_nii.to_filename(this_file)\n",
      "\n",
      "                # Second, fix the dataframe\n",
      "                out_df = out_df[out_df.image_id != row[1]['image_id']]\n",
      "                this_row = row[1].copy()\n",
      "                this_row.image_id = this_id\n",
      "                out_df = out_df.append(this_row)\n",
      "\n",
      "    return out_df\n",
      "\n",
      "def roc_plot(tpr,fpr):\n",
      "    mean_auc = auc(fpr, tpr)\n",
      "    fig = plt.plot(fpr, tpr, 'r-', label='Mean ROC (area = %0.2f)' % mean_auc, lw=4)\n",
      "    plt.xlim([-0.05, 1.05])\n",
      "    plt.ylim([-0.05, 1.05])\n",
      "    plt.xlabel('False Positive Rate')\n",
      "    plt.ylabel('True Positive Rate')\n",
      "    plt.title('Receiver operating characteristic ')\n",
      "    return fig\n",
      "\n",
      "def dist_from_hyperplane_plot(stats_output):\n",
      "    fig = sns.factorplot(\"SubID\", \"xval_dist_from_hyperplane\", hue=\"Y\", data=stats_out,kind='point')\n",
      "    plt.xlabel('Subject')\n",
      "    plt.ylabel('Distance from Hyperplane')\n",
      "    plt.title('SVM Classification')\n",
      "    return fig"
     ],
     "language": "python",
     "metadata": {},
     "outputs": [
      {
       "output_type": "stream",
       "stream": "stdout",
       "text": [
        "Couldn't import dot_parser, loading of dot files will not be possible.\n"
       ]
      }
     ],
     "prompt_number": 1
    },
    {
     "cell_type": "heading",
     "level": 2,
     "metadata": {},
     "source": [
      "Get Test Data"
     ]
    },
    {
     "cell_type": "code",
     "collapsed": false,
     "input": [
      "# Test Data collection Key: /collections/NNGSIZTQ/\n",
      "\n",
      "# Get Meta-Data associated with private key\n",
      "k = 'NNGSIZTQ' # Private Key\n",
      "combined_df = get_images_with_private_collections_df(k)\n",
      "\n",
      "# Download and resample\n",
      "combined_df = mem.cache(download_and_resample)(combined_df,dest_dir, canonical)\n",
      "combined_df.to_csv('%s/metadata.csv' % dest_dir, encoding='utf8')\n"
     ],
     "language": "python",
     "metadata": {},
     "outputs": [
      {
       "output_type": "stream",
       "stream": "stdout",
       "text": [
        "________________________________________________________________________________\n",
        "[Memory] Calling __main__--Users-lukechang-Github-neurolearn-scripts-__ipython-input__.download_and_resample...\n",
        "download_and_resample(              add_date_image  collection_id contrast_definition  \\\n",
        "0   2015-01-04T21:37:16.715Z            302                None   \n",
        "1   2015-01-04T21:37:16.746Z            302                None   \n",
        "2   2015-01-04T21:37:16.771Z            302                None   \n",
        "3   2015-01-04T21:37:16.797Z            302                None   \n",
        "4   2015-01-04T21:37:16.823Z            302                None   \n",
        "5   2015-01-04T21:37:16.849Z            302                None   \n",
        "6   2015-01-04T21:37:16.874Z            302                None   \n",
        "7   2015-01-04T21:37:16.899Z            302                None   \n",
        "8   2015-01-04T21:37:16.923Z            302                None   \n",
        "9   2015-01-04T21:37:16.948Z  ..., \n",
        "'/Users/lukechang/Dropbox/NEPA/Test_Analysis', '/Users/lukechang/Github/neurolearn/resources/MNI152_T1_2mm.nii.gz')\n",
        "Extrapolating /Users/lukechang/Dropbox/NEPA/Test_Analysis/original/1649.nii.gz\n",
        "Resampling /Users/lukechang/Dropbox/NEPA/Test_Analysis/original/1649.nii.gz"
       ]
      },
      {
       "output_type": "stream",
       "stream": "stdout",
       "text": [
        "\n",
        "Extrapolating /Users/lukechang/Dropbox/NEPA/Test_Analysis/original/1650.nii.gz"
       ]
      },
      {
       "output_type": "stream",
       "stream": "stdout",
       "text": [
        "\n",
        "Resampling /Users/lukechang/Dropbox/NEPA/Test_Analysis/original/1650.nii.gz"
       ]
      },
      {
       "output_type": "stream",
       "stream": "stdout",
       "text": [
        "\n",
        "Extrapolating /Users/lukechang/Dropbox/NEPA/Test_Analysis/original/1651.nii.gz"
       ]
      },
      {
       "output_type": "stream",
       "stream": "stdout",
       "text": [
        "\n",
        "Resampling /Users/lukechang/Dropbox/NEPA/Test_Analysis/original/1651.nii.gz"
       ]
      },
      {
       "output_type": "stream",
       "stream": "stdout",
       "text": [
        "\n",
        "Extrapolating /Users/lukechang/Dropbox/NEPA/Test_Analysis/original/1652.nii.gz"
       ]
      },
      {
       "output_type": "stream",
       "stream": "stdout",
       "text": [
        "\n",
        "Resampling /Users/lukechang/Dropbox/NEPA/Test_Analysis/original/1652.nii.gz"
       ]
      },
      {
       "output_type": "stream",
       "stream": "stdout",
       "text": [
        "\n",
        "Extrapolating /Users/lukechang/Dropbox/NEPA/Test_Analysis/original/1653.nii.gz"
       ]
      },
      {
       "output_type": "stream",
       "stream": "stdout",
       "text": [
        "\n",
        "Resampling /Users/lukechang/Dropbox/NEPA/Test_Analysis/original/1653.nii.gz"
       ]
      },
      {
       "output_type": "stream",
       "stream": "stdout",
       "text": [
        "\n",
        "Extrapolating /Users/lukechang/Dropbox/NEPA/Test_Analysis/original/1654.nii.gz"
       ]
      },
      {
       "output_type": "stream",
       "stream": "stdout",
       "text": [
        "\n",
        "Resampling /Users/lukechang/Dropbox/NEPA/Test_Analysis/original/1654.nii.gz"
       ]
      },
      {
       "output_type": "stream",
       "stream": "stdout",
       "text": [
        "\n",
        "Extrapolating /Users/lukechang/Dropbox/NEPA/Test_Analysis/original/1655.nii.gz"
       ]
      },
      {
       "output_type": "stream",
       "stream": "stdout",
       "text": [
        "\n",
        "Resampling /Users/lukechang/Dropbox/NEPA/Test_Analysis/original/1655.nii.gz"
       ]
      },
      {
       "output_type": "stream",
       "stream": "stdout",
       "text": [
        "\n",
        "Extrapolating /Users/lukechang/Dropbox/NEPA/Test_Analysis/original/1656.nii.gz"
       ]
      },
      {
       "output_type": "stream",
       "stream": "stdout",
       "text": [
        "\n",
        "Resampling /Users/lukechang/Dropbox/NEPA/Test_Analysis/original/1656.nii.gz"
       ]
      },
      {
       "output_type": "stream",
       "stream": "stdout",
       "text": [
        "\n",
        "Extrapolating /Users/lukechang/Dropbox/NEPA/Test_Analysis/original/1657.nii.gz"
       ]
      },
      {
       "output_type": "stream",
       "stream": "stdout",
       "text": [
        "\n",
        "Resampling /Users/lukechang/Dropbox/NEPA/Test_Analysis/original/1657.nii.gz"
       ]
      },
      {
       "output_type": "stream",
       "stream": "stdout",
       "text": [
        "\n",
        "Extrapolating /Users/lukechang/Dropbox/NEPA/Test_Analysis/original/1658.nii.gz"
       ]
      },
      {
       "output_type": "stream",
       "stream": "stdout",
       "text": [
        "\n",
        "Resampling /Users/lukechang/Dropbox/NEPA/Test_Analysis/original/1658.nii.gz"
       ]
      },
      {
       "output_type": "stream",
       "stream": "stdout",
       "text": [
        "\n",
        "Extrapolating /Users/lukechang/Dropbox/NEPA/Test_Analysis/original/1659.nii.gz"
       ]
      },
      {
       "output_type": "stream",
       "stream": "stdout",
       "text": [
        "\n",
        "Resampling /Users/lukechang/Dropbox/NEPA/Test_Analysis/original/1659.nii.gz"
       ]
      },
      {
       "output_type": "stream",
       "stream": "stdout",
       "text": [
        "\n",
        "Extrapolating /Users/lukechang/Dropbox/NEPA/Test_Analysis/original/1660.nii.gz"
       ]
      },
      {
       "output_type": "stream",
       "stream": "stdout",
       "text": [
        "\n",
        "Resampling /Users/lukechang/Dropbox/NEPA/Test_Analysis/original/1660.nii.gz"
       ]
      },
      {
       "output_type": "stream",
       "stream": "stdout",
       "text": [
        "\n",
        "Extrapolating /Users/lukechang/Dropbox/NEPA/Test_Analysis/original/1661.nii.gz"
       ]
      },
      {
       "output_type": "stream",
       "stream": "stdout",
       "text": [
        "\n",
        "Resampling /Users/lukechang/Dropbox/NEPA/Test_Analysis/original/1661.nii.gz"
       ]
      },
      {
       "output_type": "stream",
       "stream": "stdout",
       "text": [
        "\n",
        "Extrapolating /Users/lukechang/Dropbox/NEPA/Test_Analysis/original/1662.nii.gz"
       ]
      },
      {
       "output_type": "stream",
       "stream": "stdout",
       "text": [
        "\n",
        "Resampling /Users/lukechang/Dropbox/NEPA/Test_Analysis/original/1662.nii.gz"
       ]
      },
      {
       "output_type": "stream",
       "stream": "stdout",
       "text": [
        "\n",
        "Extrapolating /Users/lukechang/Dropbox/NEPA/Test_Analysis/original/1663.nii.gz"
       ]
      },
      {
       "output_type": "stream",
       "stream": "stdout",
       "text": [
        "\n",
        "Resampling /Users/lukechang/Dropbox/NEPA/Test_Analysis/original/1663.nii.gz"
       ]
      },
      {
       "output_type": "stream",
       "stream": "stdout",
       "text": [
        "\n",
        "Extrapolating /Users/lukechang/Dropbox/NEPA/Test_Analysis/original/1664.nii.gz"
       ]
      },
      {
       "output_type": "stream",
       "stream": "stdout",
       "text": [
        "\n",
        "Resampling /Users/lukechang/Dropbox/NEPA/Test_Analysis/original/1664.nii.gz"
       ]
      },
      {
       "output_type": "stream",
       "stream": "stdout",
       "text": [
        "\n",
        "Extrapolating /Users/lukechang/Dropbox/NEPA/Test_Analysis/original/1665.nii.gz"
       ]
      },
      {
       "output_type": "stream",
       "stream": "stdout",
       "text": [
        "\n",
        "Resampling /Users/lukechang/Dropbox/NEPA/Test_Analysis/original/1665.nii.gz"
       ]
      },
      {
       "output_type": "stream",
       "stream": "stdout",
       "text": [
        "\n",
        "Extrapolating /Users/lukechang/Dropbox/NEPA/Test_Analysis/original/1666.nii.gz"
       ]
      },
      {
       "output_type": "stream",
       "stream": "stdout",
       "text": [
        "\n",
        "Resampling /Users/lukechang/Dropbox/NEPA/Test_Analysis/original/1666.nii.gz"
       ]
      },
      {
       "output_type": "stream",
       "stream": "stdout",
       "text": [
        "\n",
        "Extrapolating /Users/lukechang/Dropbox/NEPA/Test_Analysis/original/1667.nii.gz"
       ]
      },
      {
       "output_type": "stream",
       "stream": "stdout",
       "text": [
        "\n",
        "Resampling /Users/lukechang/Dropbox/NEPA/Test_Analysis/original/1667.nii.gz"
       ]
      },
      {
       "output_type": "stream",
       "stream": "stdout",
       "text": [
        "\n",
        "Extrapolating /Users/lukechang/Dropbox/NEPA/Test_Analysis/original/1668.nii.gz"
       ]
      },
      {
       "output_type": "stream",
       "stream": "stdout",
       "text": [
        "\n",
        "Resampling /Users/lukechang/Dropbox/NEPA/Test_Analysis/original/1668.nii.gz"
       ]
      },
      {
       "output_type": "stream",
       "stream": "stdout",
       "text": [
        "\n",
        "Extrapolating /Users/lukechang/Dropbox/NEPA/Test_Analysis/original/1669.nii.gz"
       ]
      },
      {
       "output_type": "stream",
       "stream": "stdout",
       "text": [
        "\n",
        "Resampling /Users/lukechang/Dropbox/NEPA/Test_Analysis/original/1669.nii.gz"
       ]
      },
      {
       "output_type": "stream",
       "stream": "stdout",
       "text": [
        "\n",
        "Extrapolating /Users/lukechang/Dropbox/NEPA/Test_Analysis/original/1670.nii.gz"
       ]
      },
      {
       "output_type": "stream",
       "stream": "stdout",
       "text": [
        "\n",
        "Resampling /Users/lukechang/Dropbox/NEPA/Test_Analysis/original/1670.nii.gz"
       ]
      },
      {
       "output_type": "stream",
       "stream": "stdout",
       "text": [
        "\n",
        "Extrapolating /Users/lukechang/Dropbox/NEPA/Test_Analysis/original/1671.nii.gz"
       ]
      },
      {
       "output_type": "stream",
       "stream": "stdout",
       "text": [
        "\n",
        "Resampling /Users/lukechang/Dropbox/NEPA/Test_Analysis/original/1671.nii.gz"
       ]
      },
      {
       "output_type": "stream",
       "stream": "stdout",
       "text": [
        "\n",
        "Extrapolating /Users/lukechang/Dropbox/NEPA/Test_Analysis/original/1672.nii.gz"
       ]
      },
      {
       "output_type": "stream",
       "stream": "stdout",
       "text": [
        "\n",
        "Resampling /Users/lukechang/Dropbox/NEPA/Test_Analysis/original/1672.nii.gz"
       ]
      },
      {
       "output_type": "stream",
       "stream": "stdout",
       "text": [
        "\n",
        "Extrapolating /Users/lukechang/Dropbox/NEPA/Test_Analysis/original/1673.nii.gz"
       ]
      },
      {
       "output_type": "stream",
       "stream": "stdout",
       "text": [
        "\n",
        "Resampling /Users/lukechang/Dropbox/NEPA/Test_Analysis/original/1673.nii.gz"
       ]
      },
      {
       "output_type": "stream",
       "stream": "stdout",
       "text": [
        "\n",
        "Extrapolating /Users/lukechang/Dropbox/NEPA/Test_Analysis/original/1674.nii.gz"
       ]
      },
      {
       "output_type": "stream",
       "stream": "stdout",
       "text": [
        "\n",
        "Resampling /Users/lukechang/Dropbox/NEPA/Test_Analysis/original/1674.nii.gz"
       ]
      },
      {
       "output_type": "stream",
       "stream": "stdout",
       "text": [
        "\n",
        "Extrapolating /Users/lukechang/Dropbox/NEPA/Test_Analysis/original/1675.nii.gz"
       ]
      },
      {
       "output_type": "stream",
       "stream": "stdout",
       "text": [
        "\n",
        "Resampling /Users/lukechang/Dropbox/NEPA/Test_Analysis/original/1675.nii.gz"
       ]
      },
      {
       "output_type": "stream",
       "stream": "stdout",
       "text": [
        "\n",
        "Extrapolating /Users/lukechang/Dropbox/NEPA/Test_Analysis/original/1676.nii.gz"
       ]
      },
      {
       "output_type": "stream",
       "stream": "stdout",
       "text": [
        "\n",
        "Resampling /Users/lukechang/Dropbox/NEPA/Test_Analysis/original/1676.nii.gz"
       ]
      },
      {
       "output_type": "stream",
       "stream": "stdout",
       "text": [
        "\n",
        "Extrapolating /Users/lukechang/Dropbox/NEPA/Test_Analysis/original/1677.nii.gz"
       ]
      },
      {
       "output_type": "stream",
       "stream": "stdout",
       "text": [
        "\n",
        "Resampling /Users/lukechang/Dropbox/NEPA/Test_Analysis/original/1677.nii.gz"
       ]
      },
      {
       "output_type": "stream",
       "stream": "stdout",
       "text": [
        "\n",
        "Extrapolating /Users/lukechang/Dropbox/NEPA/Test_Analysis/original/1678.nii.gz"
       ]
      },
      {
       "output_type": "stream",
       "stream": "stdout",
       "text": [
        "\n",
        "Resampling /Users/lukechang/Dropbox/NEPA/Test_Analysis/original/1678.nii.gz"
       ]
      },
      {
       "output_type": "stream",
       "stream": "stdout",
       "text": [
        "\n",
        "Extrapolating /Users/lukechang/Dropbox/NEPA/Test_Analysis/original/1679.nii.gz"
       ]
      },
      {
       "output_type": "stream",
       "stream": "stdout",
       "text": [
        "\n",
        "Resampling /Users/lukechang/Dropbox/NEPA/Test_Analysis/original/1679.nii.gz"
       ]
      },
      {
       "output_type": "stream",
       "stream": "stdout",
       "text": [
        "\n",
        "Extrapolating /Users/lukechang/Dropbox/NEPA/Test_Analysis/original/1680.nii.gz"
       ]
      },
      {
       "output_type": "stream",
       "stream": "stdout",
       "text": [
        "\n",
        "Resampling /Users/lukechang/Dropbox/NEPA/Test_Analysis/original/1680.nii.gz"
       ]
      },
      {
       "output_type": "stream",
       "stream": "stdout",
       "text": [
        "\n",
        "Extrapolating /Users/lukechang/Dropbox/NEPA/Test_Analysis/original/1681.nii.gz"
       ]
      },
      {
       "output_type": "stream",
       "stream": "stdout",
       "text": [
        "\n",
        "Resampling /Users/lukechang/Dropbox/NEPA/Test_Analysis/original/1681.nii.gz"
       ]
      },
      {
       "output_type": "stream",
       "stream": "stdout",
       "text": [
        "\n",
        "Extrapolating /Users/lukechang/Dropbox/NEPA/Test_Analysis/original/1682.nii.gz"
       ]
      },
      {
       "output_type": "stream",
       "stream": "stdout",
       "text": [
        "\n",
        "Resampling /Users/lukechang/Dropbox/NEPA/Test_Analysis/original/1682.nii.gz"
       ]
      },
      {
       "output_type": "stream",
       "stream": "stdout",
       "text": [
        "\n",
        "Extrapolating /Users/lukechang/Dropbox/NEPA/Test_Analysis/original/1683.nii.gz"
       ]
      },
      {
       "output_type": "stream",
       "stream": "stdout",
       "text": [
        "\n",
        "Resampling /Users/lukechang/Dropbox/NEPA/Test_Analysis/original/1683.nii.gz"
       ]
      },
      {
       "output_type": "stream",
       "stream": "stdout",
       "text": [
        "\n",
        "Extrapolating /Users/lukechang/Dropbox/NEPA/Test_Analysis/original/1684.nii.gz"
       ]
      },
      {
       "output_type": "stream",
       "stream": "stdout",
       "text": [
        "\n",
        "Resampling /Users/lukechang/Dropbox/NEPA/Test_Analysis/original/1684.nii.gz"
       ]
      },
      {
       "output_type": "stream",
       "stream": "stdout",
       "text": [
        "\n",
        "Extrapolating /Users/lukechang/Dropbox/NEPA/Test_Analysis/original/1685.nii.gz"
       ]
      },
      {
       "output_type": "stream",
       "stream": "stdout",
       "text": [
        "\n",
        "Resampling /Users/lukechang/Dropbox/NEPA/Test_Analysis/original/1685.nii.gz"
       ]
      },
      {
       "output_type": "stream",
       "stream": "stdout",
       "text": [
        "\n",
        "Extrapolating /Users/lukechang/Dropbox/NEPA/Test_Analysis/original/1686.nii.gz"
       ]
      },
      {
       "output_type": "stream",
       "stream": "stdout",
       "text": [
        "\n",
        "Resampling /Users/lukechang/Dropbox/NEPA/Test_Analysis/original/1686.nii.gz"
       ]
      },
      {
       "output_type": "stream",
       "stream": "stdout",
       "text": [
        "\n",
        "Extrapolating /Users/lukechang/Dropbox/NEPA/Test_Analysis/original/1687.nii.gz"
       ]
      },
      {
       "output_type": "stream",
       "stream": "stdout",
       "text": [
        "\n",
        "Resampling /Users/lukechang/Dropbox/NEPA/Test_Analysis/original/1687.nii.gz"
       ]
      },
      {
       "output_type": "stream",
       "stream": "stdout",
       "text": [
        "\n",
        "Extrapolating /Users/lukechang/Dropbox/NEPA/Test_Analysis/original/1688.nii.gz"
       ]
      },
      {
       "output_type": "stream",
       "stream": "stdout",
       "text": [
        "\n",
        "Resampling /Users/lukechang/Dropbox/NEPA/Test_Analysis/original/1688.nii.gz"
       ]
      },
      {
       "output_type": "stream",
       "stream": "stdout",
       "text": [
        "\n",
        "___________________________________________download_and_resample - 18.8s, 0.3min"
       ]
      },
      {
       "output_type": "stream",
       "stream": "stdout",
       "text": [
        "\n"
       ]
      }
     ],
     "prompt_number": 6
    },
    {
     "cell_type": "heading",
     "level": 2,
     "metadata": {},
     "source": [
      "\n",
      "Run Machine Learning Analysis\n",
      "\n"
     ]
    },
    {
     "cell_type": "code",
     "collapsed": false,
     "input": [
      "tic = time.time() #Start Timer\n",
      "\n",
      "# Separate image types and sort\n",
      "combined_df = pd.read_csv('%s/metadata.csv' % dest_dir, encoding='utf8')\n",
      "neg_list = combined_df.ix[combined_df.name_image.str.contains('Neg'),].sort(columns='name_image')\n",
      "neu_list = combined_df.ix[combined_df.name_image.str.contains('Neu'),].sort(columns='name_image')\n",
      "\n",
      "# Load data using nibabel\n",
      "neg_file_list = [dest_dir + '/resampled/00' + str(x) + '.nii.gz' for x in neg_list.image_id]\n",
      "neu_file_list = [dest_dir + '/resampled/00' + str(x) + '.nii.gz' for x in neu_list.image_id]\n",
      "dat = nb.funcs.concat_images(neg_file_list+neu_file_list)\n",
      "\n",
      "# Mask data\n",
      "mask_img = nb.load(os.path.join(basedir,'resources/MNI152_T1_2mm_brain_mask_dil.nii.gz'))\n",
      "mn_img = mean_img(dat)\n",
      "nifti_masker = NiftiMasker(mask_img=mask_img)\n",
      "dat_masked = nifti_masker.fit_transform(dat)\n",
      "\n",
      "# Classification\n",
      "nSub = 20\n",
      "Y = np.array([1]*nSub+[0]*nSub)\n",
      "svc = SVC(kernel='linear')\n",
      "svc.fit(dat_masked, Y)\n",
      "\n",
      "# Save Weights: Write out weight map to nifti image\n",
      "coef_ = svc.coef_\n",
      "intercept_ = svc.intercept_\n",
      "coef_img = nifti_masker.inverse_transform(coef_)\n",
      "nb.save(coef_img, dest_dir + '/Neg_vs_Neu_SVM_weights.nii')\n",
      "\n",
      "# Cross-validation\n",
      "cv = StratifiedKFold(Y, n_folds=5)\n",
      "cv_scores = []\n",
      "mean_tpr = 0.0\n",
      "all_tpr = []\n",
      "mean_fpr = np.linspace(0, 1, 100)\n",
      "yfit = np.array([0]*nSub*2)\n",
      "xval_dist_from_hyperplane = np.array([0]*nSub*2)\n",
      "for train, test in cv:\n",
      "    svc.fit(dat_masked[train], Y[train])\n",
      "    yfit[test] = svc.predict(dat_masked[test])\n",
      "    xval_dist_from_hyperplane[test] = svc.decision_function(dat_masked[test])\n",
      "    \n",
      "    # Compute ROC curve and area the curve\n",
      "    fpr, tpr, thresholds = roc_curve(Y[test], yfit[test])\n",
      "    mean_tpr += interp(mean_fpr, fpr, tpr)\n",
      "mean_tpr /= len(cv)\n",
      "mean_tpr[0] = 0.0\n",
      "mean_tpr[-1] = 1.0\n",
      "\n",
      "# Save Stats Output\n",
      "stats_out = pd.DataFrame({\n",
      "                'SubID' : range(0,nSub)*2, \n",
      "                'xval_dist_from_hyperplane' : xval_dist_from_hyperplane, \n",
      "                'Y' : Y, \n",
      "                'yfit' : yfit })\n",
      "stats_out.to_csv(dest_dir + 'SVM_Stats_Output.csv')\n",
      "\n",
      "# Display results\n",
      "print 'overall CV accuracy: %.2f' % np.mean(yfit==Y)\n",
      "print 'AUC: %.2f' % auc(mean_fpr,mean_tpr)\n",
      "print 'Forced Choice Accuracy: %.2f' % np.mean((xval_dist_from_hyperplane[0:nSub] - xval_dist_from_hyperplane[nSub:]) > 0)\n",
      "\n",
      "# Plots\n",
      "fig3 = roc_plot(mean_tpr, mean_fpr)\n",
      "plt.savefig(dest_dir + '/Neg_vs_Neu_SVM_ROC_plot.png')\n",
      "\n",
      "fig1 = plot_roi(nifti_masker.mask_img_, mn_img, title=\"Mask\", cut_coords=range(-40, 40, 10), display_mode='z')\n",
      "fig1.savefig(dest_dir + '/Neg_vs_Neu_SVM_mask.png')\n",
      "fig2 = plot_stat_map(coef_img, mn_img, title=\"SVM weights\", cut_coords=range(-40, 40, 10), display_mode='z')\n",
      "fig2.savefig(dest_dir + '/Neg_vs_Neu_SVM_weightmap.png')\n",
      "fig4 = dist_from_hyperplane_plot(stats_out)\n",
      "fig4.savefig(dest_dir + '/Neg_vs_Neu_SVM_xVal_Distance_from_Hyperplane.png')\n",
      "\n",
      "print 'Elapsed: %.2f seconds' % (time.time() - tic)"
     ],
     "language": "python",
     "metadata": {},
     "outputs": [
      {
       "output_type": "stream",
       "stream": "stdout",
       "text": [
        "overall CV accuracy: 0.78\n",
        "AUC: 0.77\n",
        "Forced Choice Accuracy: 0.90\n",
        "Elapsed: 7.08 seconds"
       ]
      },
      {
       "output_type": "stream",
       "stream": "stdout",
       "text": [
        "\n"
       ]
      },
      {
       "metadata": {},
       "output_type": "display_data",
       "png": "[encoded data removed]",
       "text": [
        "<matplotlib.figure.Figure at 0x10d46ac10>"
       ]
      },
      {
       "metadata": {},
       "output_type": "display_data",
       "png": "[encoded data removed]",
       "text": [
        "<matplotlib.figure.Figure at 0x125f57d90>"
       ]
      },
      {
       "metadata": {},
       "output_type": "display_data",
       "png": "[encoded data removed]",
       "text": [
        "<matplotlib.figure.Figure at 0x1126a59d0>"
       ]
      },
      {
       "metadata": {},
       "output_type": "display_data",
       "png": "[encoded data removed]",
       "text": [
        "<matplotlib.figure.Figure at 0x1123566d0>"
       ]
      }
     ],
     "prompt_number": 14
    },
    {
     "cell_type": "heading",
     "level": 2,
     "metadata": {},
     "source": [
      "Get Weight Map"
     ]
    },
    {
     "cell_type": "code",
     "collapsed": false,
     "input": [
      "#PINES key /collections/TMTKHDFM/\n",
      "\n",
      "### Download Weight Map ###\n",
      "# Get Meta-Data associated with private key\n",
      "k = 'TMTKHDFM' # Private Key\n",
      "coll_pines = get_collections_df(key = k)\n",
      "pines_df = get_images_with_private_collections_df(k)\n",
      "\n",
      "# Download and resample\n",
      "dest_dir = \"/Users/lukechang/Dropbox/NEPA/Test_Analysis\"\n",
      "target = os.path.join(basedir,\"resources/MNI152_T1_2mm.nii.gz\")\n",
      "pines_df = mem.cache(download_and_resample)(pines_df,dest_dir, target)\n",
      "pines_df.to_csv('%s/pines_metadata.csv' % dest_dir, encoding='utf8')\n"
     ],
     "language": "python",
     "metadata": {},
     "outputs": [
      {
       "output_type": "stream",
       "stream": "stdout",
       "text": [
        "________________________________________________________________________________\n",
        "[Memory] Calling __main__--Users-lukechang-Github-neurolearn-scripts-__ipython-input__.download_and_resample...\n",
        "download_and_resample(             add_date_image  collection_id contrast_definition  \\\n",
        "0  2015-01-06T05:34:33.909Z            306                       \n",
        "\n",
        "  contrast_definition_cogatlas                description_image  \\\n",
        "0                               Picture induce negative emotion   \n",
        "\n",
        "                                                file label_description_file  \\\n",
        "0  http://neurovault.org/media/images/306/Rating_...                    NaN   \n",
        "\n",
        "  map_type         modify_date_image     name_image            ...             \\\n",
        "0    Other  2015-01-06T05:34:33.910Z  PINES_Weights            ...              \n",
        "\n",
        "  used_high_pass_filter  used_intersubject_registration  \\\n",
        "0                   NaN                             NaN   \n",
        "\n",
        "   used_motion_correction used_motion_regressors  \\\n",
        "0                     NaN                    NaN   \n",
        "\n",
        "   used_motion_susceptibiity_correction used_orthogonalization  \\\n",
        "0                                   NaN                    NaN   \n",
        "\n",
        "  used_reaction_time_regressor used_slice_timing_correction used_smoothing  \\\n",
        "0                          NaN                          NaN            NaN   \n",
        "\n",
        "  used_temporal_derivatives  \n",
        "0                       NaN  \n",
        "\n",
        "[1 rows x 109 columns], \n",
        "'/Users/lukechang/Dropbox/NEPA/Test_Analysis', '/Users/lukechang/Github/neurolearn/resources/MNI152_T1_2mm.nii.gz')\n",
        "Extrapolating /Users/lukechang/Dropbox/NEPA/Test_Analysis/original/1649.nii.gz\n",
        "Resampling /Users/lukechang/Dropbox/NEPA/Test_Analysis/original/1649.nii.gz"
       ]
      },
      {
       "output_type": "stream",
       "stream": "stdout",
       "text": [
        "\n",
        "Extrapolating /Users/lukechang/Dropbox/NEPA/Test_Analysis/original/1650.nii.gz"
       ]
      },
      {
       "output_type": "stream",
       "stream": "stdout",
       "text": [
        "\n",
        "Resampling /Users/lukechang/Dropbox/NEPA/Test_Analysis/original/1650.nii.gz"
       ]
      },
      {
       "output_type": "stream",
       "stream": "stdout",
       "text": [
        "\n",
        "Extrapolating /Users/lukechang/Dropbox/NEPA/Test_Analysis/original/1651.nii.gz"
       ]
      },
      {
       "output_type": "stream",
       "stream": "stdout",
       "text": [
        "\n",
        "Resampling /Users/lukechang/Dropbox/NEPA/Test_Analysis/original/1651.nii.gz"
       ]
      },
      {
       "output_type": "stream",
       "stream": "stdout",
       "text": [
        "\n",
        "Extrapolating /Users/lukechang/Dropbox/NEPA/Test_Analysis/original/1652.nii.gz"
       ]
      },
      {
       "output_type": "stream",
       "stream": "stdout",
       "text": [
        "\n",
        "Resampling /Users/lukechang/Dropbox/NEPA/Test_Analysis/original/1652.nii.gz"
       ]
      },
      {
       "output_type": "stream",
       "stream": "stdout",
       "text": [
        "\n",
        "Extrapolating /Users/lukechang/Dropbox/NEPA/Test_Analysis/original/1653.nii.gz"
       ]
      },
      {
       "output_type": "stream",
       "stream": "stdout",
       "text": [
        "\n",
        "Resampling /Users/lukechang/Dropbox/NEPA/Test_Analysis/original/1653.nii.gz"
       ]
      },
      {
       "output_type": "stream",
       "stream": "stdout",
       "text": [
        "\n",
        "Extrapolating /Users/lukechang/Dropbox/NEPA/Test_Analysis/original/1654.nii.gz"
       ]
      },
      {
       "output_type": "stream",
       "stream": "stdout",
       "text": [
        "\n",
        "Resampling /Users/lukechang/Dropbox/NEPA/Test_Analysis/original/1654.nii.gz"
       ]
      },
      {
       "output_type": "stream",
       "stream": "stdout",
       "text": [
        "\n",
        "Extrapolating /Users/lukechang/Dropbox/NEPA/Test_Analysis/original/1655.nii.gz"
       ]
      },
      {
       "output_type": "stream",
       "stream": "stdout",
       "text": [
        "\n",
        "Resampling /Users/lukechang/Dropbox/NEPA/Test_Analysis/original/1655.nii.gz"
       ]
      },
      {
       "output_type": "stream",
       "stream": "stdout",
       "text": [
        "\n",
        "Extrapolating /Users/lukechang/Dropbox/NEPA/Test_Analysis/original/1656.nii.gz"
       ]
      },
      {
       "output_type": "stream",
       "stream": "stdout",
       "text": [
        "\n",
        "Resampling /Users/lukechang/Dropbox/NEPA/Test_Analysis/original/1656.nii.gz"
       ]
      },
      {
       "output_type": "stream",
       "stream": "stdout",
       "text": [
        "\n",
        "Extrapolating /Users/lukechang/Dropbox/NEPA/Test_Analysis/original/1657.nii.gz"
       ]
      },
      {
       "output_type": "stream",
       "stream": "stdout",
       "text": [
        "\n",
        "Resampling /Users/lukechang/Dropbox/NEPA/Test_Analysis/original/1657.nii.gz"
       ]
      },
      {
       "output_type": "stream",
       "stream": "stdout",
       "text": [
        "\n",
        "Extrapolating /Users/lukechang/Dropbox/NEPA/Test_Analysis/original/1658.nii.gz"
       ]
      },
      {
       "output_type": "stream",
       "stream": "stdout",
       "text": [
        "\n",
        "Resampling /Users/lukechang/Dropbox/NEPA/Test_Analysis/original/1658.nii.gz"
       ]
      },
      {
       "output_type": "stream",
       "stream": "stdout",
       "text": [
        "\n",
        "Extrapolating /Users/lukechang/Dropbox/NEPA/Test_Analysis/original/1659.nii.gz"
       ]
      },
      {
       "output_type": "stream",
       "stream": "stdout",
       "text": [
        "\n",
        "Resampling /Users/lukechang/Dropbox/NEPA/Test_Analysis/original/1659.nii.gz"
       ]
      },
      {
       "output_type": "stream",
       "stream": "stdout",
       "text": [
        "\n",
        "Extrapolating /Users/lukechang/Dropbox/NEPA/Test_Analysis/original/1660.nii.gz"
       ]
      },
      {
       "output_type": "stream",
       "stream": "stdout",
       "text": [
        "\n",
        "Resampling /Users/lukechang/Dropbox/NEPA/Test_Analysis/original/1660.nii.gz"
       ]
      },
      {
       "output_type": "stream",
       "stream": "stdout",
       "text": [
        "\n",
        "Extrapolating /Users/lukechang/Dropbox/NEPA/Test_Analysis/original/1661.nii.gz"
       ]
      },
      {
       "output_type": "stream",
       "stream": "stdout",
       "text": [
        "\n",
        "Resampling /Users/lukechang/Dropbox/NEPA/Test_Analysis/original/1661.nii.gz"
       ]
      },
      {
       "output_type": "stream",
       "stream": "stdout",
       "text": [
        "\n",
        "Extrapolating /Users/lukechang/Dropbox/NEPA/Test_Analysis/original/1662.nii.gz"
       ]
      },
      {
       "output_type": "stream",
       "stream": "stdout",
       "text": [
        "\n",
        "Resampling /Users/lukechang/Dropbox/NEPA/Test_Analysis/original/1662.nii.gz"
       ]
      },
      {
       "output_type": "stream",
       "stream": "stdout",
       "text": [
        "\n",
        "Extrapolating /Users/lukechang/Dropbox/NEPA/Test_Analysis/original/1663.nii.gz"
       ]
      },
      {
       "output_type": "stream",
       "stream": "stdout",
       "text": [
        "\n",
        "Resampling /Users/lukechang/Dropbox/NEPA/Test_Analysis/original/1663.nii.gz"
       ]
      },
      {
       "output_type": "stream",
       "stream": "stdout",
       "text": [
        "\n",
        "Extrapolating /Users/lukechang/Dropbox/NEPA/Test_Analysis/original/1664.nii.gz"
       ]
      },
      {
       "output_type": "stream",
       "stream": "stdout",
       "text": [
        "\n",
        "Resampling /Users/lukechang/Dropbox/NEPA/Test_Analysis/original/1664.nii.gz"
       ]
      },
      {
       "output_type": "stream",
       "stream": "stdout",
       "text": [
        "\n",
        "Extrapolating /Users/lukechang/Dropbox/NEPA/Test_Analysis/original/1665.nii.gz"
       ]
      },
      {
       "output_type": "stream",
       "stream": "stdout",
       "text": [
        "\n",
        "Resampling /Users/lukechang/Dropbox/NEPA/Test_Analysis/original/1665.nii.gz"
       ]
      },
      {
       "output_type": "stream",
       "stream": "stdout",
       "text": [
        "\n",
        "Extrapolating /Users/lukechang/Dropbox/NEPA/Test_Analysis/original/1666.nii.gz"
       ]
      },
      {
       "output_type": "stream",
       "stream": "stdout",
       "text": [
        "\n",
        "Resampling /Users/lukechang/Dropbox/NEPA/Test_Analysis/original/1666.nii.gz"
       ]
      },
      {
       "output_type": "stream",
       "stream": "stdout",
       "text": [
        "\n",
        "Extrapolating /Users/lukechang/Dropbox/NEPA/Test_Analysis/original/1667.nii.gz"
       ]
      },
      {
       "output_type": "stream",
       "stream": "stdout",
       "text": [
        "\n",
        "Resampling /Users/lukechang/Dropbox/NEPA/Test_Analysis/original/1667.nii.gz"
       ]
      },
      {
       "output_type": "stream",
       "stream": "stdout",
       "text": [
        "\n",
        "Extrapolating /Users/lukechang/Dropbox/NEPA/Test_Analysis/original/1668.nii.gz"
       ]
      },
      {
       "output_type": "stream",
       "stream": "stdout",
       "text": [
        "\n",
        "Resampling /Users/lukechang/Dropbox/NEPA/Test_Analysis/original/1668.nii.gz"
       ]
      },
      {
       "output_type": "stream",
       "stream": "stdout",
       "text": [
        "\n",
        "Extrapolating /Users/lukechang/Dropbox/NEPA/Test_Analysis/original/1669.nii.gz"
       ]
      },
      {
       "output_type": "stream",
       "stream": "stdout",
       "text": [
        "\n",
        "Resampling /Users/lukechang/Dropbox/NEPA/Test_Analysis/original/1669.nii.gz"
       ]
      },
      {
       "output_type": "stream",
       "stream": "stdout",
       "text": [
        "\n",
        "Extrapolating /Users/lukechang/Dropbox/NEPA/Test_Analysis/original/1670.nii.gz"
       ]
      },
      {
       "output_type": "stream",
       "stream": "stdout",
       "text": [
        "\n",
        "Resampling /Users/lukechang/Dropbox/NEPA/Test_Analysis/original/1670.nii.gz"
       ]
      },
      {
       "output_type": "stream",
       "stream": "stdout",
       "text": [
        "\n",
        "Extrapolating /Users/lukechang/Dropbox/NEPA/Test_Analysis/original/1671.nii.gz"
       ]
      },
      {
       "output_type": "stream",
       "stream": "stdout",
       "text": [
        "\n",
        "Resampling /Users/lukechang/Dropbox/NEPA/Test_Analysis/original/1671.nii.gz"
       ]
      },
      {
       "output_type": "stream",
       "stream": "stdout",
       "text": [
        "\n",
        "Extrapolating /Users/lukechang/Dropbox/NEPA/Test_Analysis/original/1672.nii.gz"
       ]
      },
      {
       "output_type": "stream",
       "stream": "stdout",
       "text": [
        "\n",
        "Resampling /Users/lukechang/Dropbox/NEPA/Test_Analysis/original/1672.nii.gz"
       ]
      },
      {
       "output_type": "stream",
       "stream": "stdout",
       "text": [
        "\n",
        "Extrapolating /Users/lukechang/Dropbox/NEPA/Test_Analysis/original/1673.nii.gz"
       ]
      },
      {
       "output_type": "stream",
       "stream": "stdout",
       "text": [
        "\n",
        "Resampling /Users/lukechang/Dropbox/NEPA/Test_Analysis/original/1673.nii.gz"
       ]
      },
      {
       "output_type": "stream",
       "stream": "stdout",
       "text": [
        "\n",
        "Extrapolating /Users/lukechang/Dropbox/NEPA/Test_Analysis/original/1674.nii.gz"
       ]
      },
      {
       "output_type": "stream",
       "stream": "stdout",
       "text": [
        "\n",
        "Resampling /Users/lukechang/Dropbox/NEPA/Test_Analysis/original/1674.nii.gz"
       ]
      },
      {
       "output_type": "stream",
       "stream": "stdout",
       "text": [
        "\n",
        "Extrapolating /Users/lukechang/Dropbox/NEPA/Test_Analysis/original/1675.nii.gz"
       ]
      },
      {
       "output_type": "stream",
       "stream": "stdout",
       "text": [
        "\n",
        "Resampling /Users/lukechang/Dropbox/NEPA/Test_Analysis/original/1675.nii.gz"
       ]
      },
      {
       "output_type": "stream",
       "stream": "stdout",
       "text": [
        "\n",
        "Extrapolating /Users/lukechang/Dropbox/NEPA/Test_Analysis/original/1676.nii.gz"
       ]
      },
      {
       "output_type": "stream",
       "stream": "stdout",
       "text": [
        "\n",
        "Resampling /Users/lukechang/Dropbox/NEPA/Test_Analysis/original/1676.nii.gz"
       ]
      },
      {
       "output_type": "stream",
       "stream": "stdout",
       "text": [
        "\n",
        "Extrapolating /Users/lukechang/Dropbox/NEPA/Test_Analysis/original/1677.nii.gz"
       ]
      },
      {
       "output_type": "stream",
       "stream": "stdout",
       "text": [
        "\n",
        "Resampling /Users/lukechang/Dropbox/NEPA/Test_Analysis/original/1677.nii.gz"
       ]
      },
      {
       "output_type": "stream",
       "stream": "stdout",
       "text": [
        "\n",
        "Extrapolating /Users/lukechang/Dropbox/NEPA/Test_Analysis/original/1678.nii.gz"
       ]
      },
      {
       "output_type": "stream",
       "stream": "stdout",
       "text": [
        "\n",
        "Resampling /Users/lukechang/Dropbox/NEPA/Test_Analysis/original/1678.nii.gz"
       ]
      },
      {
       "output_type": "stream",
       "stream": "stdout",
       "text": [
        "\n",
        "Extrapolating /Users/lukechang/Dropbox/NEPA/Test_Analysis/original/1679.nii.gz"
       ]
      },
      {
       "output_type": "stream",
       "stream": "stdout",
       "text": [
        "\n",
        "Resampling /Users/lukechang/Dropbox/NEPA/Test_Analysis/original/1679.nii.gz"
       ]
      },
      {
       "output_type": "stream",
       "stream": "stdout",
       "text": [
        "\n",
        "Extrapolating /Users/lukechang/Dropbox/NEPA/Test_Analysis/original/1680.nii.gz"
       ]
      },
      {
       "output_type": "stream",
       "stream": "stdout",
       "text": [
        "\n",
        "Resampling /Users/lukechang/Dropbox/NEPA/Test_Analysis/original/1680.nii.gz"
       ]
      },
      {
       "output_type": "stream",
       "stream": "stdout",
       "text": [
        "\n",
        "Extrapolating /Users/lukechang/Dropbox/NEPA/Test_Analysis/original/1681.nii.gz"
       ]
      },
      {
       "output_type": "stream",
       "stream": "stdout",
       "text": [
        "\n",
        "Resampling /Users/lukechang/Dropbox/NEPA/Test_Analysis/original/1681.nii.gz"
       ]
      },
      {
       "output_type": "stream",
       "stream": "stdout",
       "text": [
        "\n",
        "Extrapolating /Users/lukechang/Dropbox/NEPA/Test_Analysis/original/1682.nii.gz"
       ]
      },
      {
       "output_type": "stream",
       "stream": "stdout",
       "text": [
        "\n",
        "Resampling /Users/lukechang/Dropbox/NEPA/Test_Analysis/original/1682.nii.gz"
       ]
      },
      {
       "output_type": "stream",
       "stream": "stdout",
       "text": [
        "\n",
        "Extrapolating /Users/lukechang/Dropbox/NEPA/Test_Analysis/original/1683.nii.gz"
       ]
      },
      {
       "output_type": "stream",
       "stream": "stdout",
       "text": [
        "\n",
        "Resampling /Users/lukechang/Dropbox/NEPA/Test_Analysis/original/1683.nii.gz"
       ]
      },
      {
       "output_type": "stream",
       "stream": "stdout",
       "text": [
        "\n",
        "Extrapolating /Users/lukechang/Dropbox/NEPA/Test_Analysis/original/1684.nii.gz"
       ]
      },
      {
       "output_type": "stream",
       "stream": "stdout",
       "text": [
        "\n",
        "Resampling /Users/lukechang/Dropbox/NEPA/Test_Analysis/original/1684.nii.gz"
       ]
      },
      {
       "output_type": "stream",
       "stream": "stdout",
       "text": [
        "\n",
        "Extrapolating /Users/lukechang/Dropbox/NEPA/Test_Analysis/original/1685.nii.gz"
       ]
      },
      {
       "output_type": "stream",
       "stream": "stdout",
       "text": [
        "\n",
        "Resampling /Users/lukechang/Dropbox/NEPA/Test_Analysis/original/1685.nii.gz"
       ]
      },
      {
       "output_type": "stream",
       "stream": "stdout",
       "text": [
        "\n",
        "Extrapolating /Users/lukechang/Dropbox/NEPA/Test_Analysis/original/1686.nii.gz"
       ]
      },
      {
       "output_type": "stream",
       "stream": "stdout",
       "text": [
        "\n",
        "Resampling /Users/lukechang/Dropbox/NEPA/Test_Analysis/original/1686.nii.gz"
       ]
      },
      {
       "output_type": "stream",
       "stream": "stdout",
       "text": [
        "\n",
        "Extrapolating /Users/lukechang/Dropbox/NEPA/Test_Analysis/original/1687.nii.gz"
       ]
      },
      {
       "output_type": "stream",
       "stream": "stdout",
       "text": [
        "\n",
        "Resampling /Users/lukechang/Dropbox/NEPA/Test_Analysis/original/1687.nii.gz"
       ]
      },
      {
       "output_type": "stream",
       "stream": "stdout",
       "text": [
        "\n",
        "Extrapolating /Users/lukechang/Dropbox/NEPA/Test_Analysis/original/1688.nii.gz"
       ]
      },
      {
       "output_type": "stream",
       "stream": "stdout",
       "text": [
        "\n",
        "Resampling /Users/lukechang/Dropbox/NEPA/Test_Analysis/original/1688.nii.gz"
       ]
      },
      {
       "output_type": "stream",
       "stream": "stdout",
       "text": [
        "\n",
        "___________________________________________download_and_resample - 19.9s, 0.3min"
       ]
      },
      {
       "output_type": "stream",
       "stream": "stdout",
       "text": [
        "\n"
       ]
      }
     ],
     "prompt_number": 8
    },
    {
     "cell_type": "heading",
     "level": 2,
     "metadata": {},
     "source": [
      "Test Pattern Expression"
     ]
    },
    {
     "cell_type": "code",
     "collapsed": false,
     "input": [
      "tic = time.time() #Start Timer\n",
      "\n",
      "# Load data using nibabel\n",
      "dat = nb.funcs.concat_images(neg_file_list+neu_file_list)\n",
      "pines = nb.load(os.path.abspath(dest_dir + '/resampled/00' + str(combined_df.image_id[0]) + '.nii.gz'))\n",
      "\n",
      "# Mask data\n",
      "nifti_masker = NiftiMasker(mask_img=mask_img)\n",
      "dat_masked = nifti_masker.fit_transform(dat)\n",
      "pines_masked = nifti_masker.fit_transform(pines)\n",
      "\n",
      "# Calculate pattern expression\n",
      "pexp = np.dot(dat_masked,np.transpose(pines_masked)) + intercept_\n",
      "\n",
      "# Calculate ROC plot\n",
      "mean_fpr = np.linspace(0, 1, 100)\n",
      "fpr, tpr, thresholds = roc_curve(Y, pexp)\n",
      "stats_out.xval_dist_from_hyperplane = pexp\n",
      "\n",
      "# Display results\n",
      "print 'overall CV accuracy: %.2f' % np.mean(pexp + 1.1236 > 0)\n",
      "print 'AUC: %.2f' % auc(fpr,tpr)\n",
      "print 'Forced Choice Accuracy: %.2f' % np.mean((pexp[0:nSub] - pexp[nSub:]) > 0)\n",
      "\n",
      "fig1 = roc_plot(tpr, fpr)\n",
      "plt.savefig(dest_dir + '/PINES_PExp_Neg_vs_Neu_SVM_ROC_plot.png')\n",
      "\n",
      "fig2 = dist_from_hyperplane_plot(stats_out)\n",
      "fig2.savefig(dest_dir + '/PINES_PExp_Neg_vs_Neu_SVM_xVal_Distance_from_Hyperplane.png')\n",
      "\n",
      "print 'Elapsed: %.2f seconds' % (time.time() - tic) #Stop timer"
     ],
     "language": "python",
     "metadata": {},
     "outputs": [
      {
       "output_type": "stream",
       "stream": "stdout",
       "text": [
        "overall CV accuracy: 0.62\n",
        "AUC: 0.43\n",
        "Forced Choice Accuracy: 0.30\n",
        "Elapsed: 2.47 seconds"
       ]
      },
      {
       "output_type": "stream",
       "stream": "stdout",
       "text": [
        "\n"
       ]
      },
      {
       "metadata": {},
       "output_type": "display_data",
       "png": "[encoded data removed]",
       "text": [
        "<matplotlib.figure.Figure at 0x111b3a450>"
       ]
      },
      {
       "metadata": {},
       "output_type": "display_data",
       "png": "[encoded data removed]",
       "text": [
        "<matplotlib.figure.Figure at 0x113bf3fd0>"
       ]
      }
     ],
     "prompt_number": 9
    },
    {
     "cell_type": "code",
     "collapsed": false,
     "input": [],
     "language": "python",
     "metadata": {},
     "outputs": [],
     "prompt_number": 14
    },
    {
     "cell_type": "heading",
     "level": 2,
     "metadata": {},
     "source": [
      "Extra Code"
     ]
    },
    {
     "cell_type": "code",
     "collapsed": false,
     "input": [
      "tic = time.time() #Start Timer\n",
      "\n",
      "# Separate image types and sort\n",
      "combined_df = pd.read_csv('%s/metadata.csv' % dest_dir, encoding='utf8')\n",
      "neg_list = combined_df.ix[combined_df.name_image.str.contains('Neg'),].sort(columns='name_image')\n",
      "neu_list = combined_df.ix[combined_df.name_image.str.contains('Neu'),].sort(columns='name_image')\n",
      "\n",
      "# Load data using nibabel\n",
      "neg_file_list = [dest_dir + '/resampled/00' + str(x) + '.nii.gz' for x in neg_list.image_id]\n",
      "neu_file_list = [dest_dir + '/resampled/00' + str(x) + '.nii.gz' for x in neu_list.image_id]\n",
      "dat = nb.funcs.concat_images(neg_file_list+neu_file_list)\n",
      "Y = np.array([1]*len(neg_file_list)+[0]*len(neu_file_list))\n",
      "\n",
      "# negvneu = Predict(dat,Y,algorithm='svm',output_dir=dest_dir, kernel=\"linear\")\n",
      "# negvneu = Predict(dat,Y,algorithm='linear',output_dir=dest_dir)\n",
      "negvneu = Predict(dat,Y,algorithm='svm',output_dir=dest_dir)\n",
      "negvneu.predict()\n",
      "\n",
      "print 'Elapsed: %.2f seconds' % (time.time() - tic) #Stop timer"
     ],
     "language": "python",
     "metadata": {},
     "outputs": [
      {
       "output_type": "stream",
       "stream": "stderr",
       "text": [
        "/usr/local/lib/python2.7/site-packages/sklearn/linear_model/ridge.py:138: DeprecationWarning: Implicitly casting between incompatible kinds. In a future numpy release, this will raise an error. Use casting=\"unsafe\" if this is intentional.\n",
        "  K.flat[::n_samples + 1] += alpha[0]\n"
       ]
      },
      {
       "ename": "TypeError",
       "evalue": "unsupported operand type(s) for +: 'float' and 'dict'",
       "output_type": "pyerr",
       "traceback": [
        "\u001b[0;31m---------------------------------------------------------------------------\u001b[0m\n\u001b[0;31mTypeError\u001b[0m                                 Traceback (most recent call last)",
        "\u001b[0;32m<ipython-input-7-8ed49135ea09>\u001b[0m in \u001b[0;36m<module>\u001b[0;34m()\u001b[0m\n\u001b[1;32m     15\u001b[0m \u001b[0;31m# negvneu = Predict(dat,Y,algorithm='linear',output_dir=dest_dir)\u001b[0m\u001b[0;34m\u001b[0m\u001b[0;34m\u001b[0m\u001b[0m\n\u001b[1;32m     16\u001b[0m \u001b[0mnegvneu\u001b[0m \u001b[0;34m=\u001b[0m \u001b[0mPredict\u001b[0m\u001b[0;34m(\u001b[0m\u001b[0mdat\u001b[0m\u001b[0;34m,\u001b[0m\u001b[0mY\u001b[0m\u001b[0;34m,\u001b[0m\u001b[0malgorithm\u001b[0m\u001b[0;34m=\u001b[0m\u001b[0;34m'ridge'\u001b[0m\u001b[0;34m,\u001b[0m\u001b[0moutput_dir\u001b[0m\u001b[0;34m=\u001b[0m\u001b[0mdest_dir\u001b[0m\u001b[0;34m)\u001b[0m\u001b[0;34m\u001b[0m\u001b[0m\n\u001b[0;32m---> 17\u001b[0;31m \u001b[0mnegvneu\u001b[0m\u001b[0;34m.\u001b[0m\u001b[0mpredict\u001b[0m\u001b[0;34m(\u001b[0m\u001b[0;34m)\u001b[0m\u001b[0;34m\u001b[0m\u001b[0m\n\u001b[0m\u001b[1;32m     18\u001b[0m \u001b[0;34m\u001b[0m\u001b[0m\n\u001b[1;32m     19\u001b[0m \u001b[0;32mprint\u001b[0m \u001b[0;34m'Elapsed: %.2f seconds'\u001b[0m \u001b[0;34m%\u001b[0m \u001b[0;34m(\u001b[0m\u001b[0mtime\u001b[0m\u001b[0;34m.\u001b[0m\u001b[0mtime\u001b[0m\u001b[0;34m(\u001b[0m\u001b[0;34m)\u001b[0m \u001b[0;34m-\u001b[0m \u001b[0mtic\u001b[0m\u001b[0;34m)\u001b[0m \u001b[0;31m#Stop timer\u001b[0m\u001b[0;34m\u001b[0m\u001b[0m\n",
        "\u001b[0;32m/usr/local/Cellar/python/2.7.9/Frameworks/Python.framework/Versions/2.7/lib/python2.7/site-packages/nltools-0.1-py2.7.egg/nltools/analysis.pyc\u001b[0m in \u001b[0;36mpredict\u001b[0;34m(self, algorithm, cv, save_images, save_output, save_plot, **kwargs)\u001b[0m\n\u001b[1;32m     94\u001b[0m         \u001b[0;31m# Overall Fit for weight map\u001b[0m\u001b[0;34m\u001b[0m\u001b[0;34m\u001b[0m\u001b[0m\n\u001b[1;32m     95\u001b[0m         \u001b[0mpredicter\u001b[0m \u001b[0;34m=\u001b[0m \u001b[0mself\u001b[0m\u001b[0;34m.\u001b[0m\u001b[0mpredicter\u001b[0m\u001b[0;34m\u001b[0m\u001b[0m\n\u001b[0;32m---> 96\u001b[0;31m         \u001b[0mpredicter\u001b[0m\u001b[0;34m.\u001b[0m\u001b[0mfit\u001b[0m\u001b[0;34m(\u001b[0m\u001b[0mself\u001b[0m\u001b[0;34m.\u001b[0m\u001b[0mdata\u001b[0m\u001b[0;34m,\u001b[0m \u001b[0mself\u001b[0m\u001b[0;34m.\u001b[0m\u001b[0mY\u001b[0m\u001b[0;34m)\u001b[0m\u001b[0;34m\u001b[0m\u001b[0m\n\u001b[0m\u001b[1;32m     97\u001b[0m         \u001b[0mself\u001b[0m\u001b[0;34m.\u001b[0m\u001b[0myfit\u001b[0m \u001b[0;34m=\u001b[0m \u001b[0mpredicter\u001b[0m\u001b[0;34m.\u001b[0m\u001b[0mpredict\u001b[0m\u001b[0;34m(\u001b[0m\u001b[0mself\u001b[0m\u001b[0;34m.\u001b[0m\u001b[0mdata\u001b[0m\u001b[0;34m)\u001b[0m\u001b[0;34m\u001b[0m\u001b[0m\n\u001b[1;32m     98\u001b[0m \u001b[0;34m\u001b[0m\u001b[0m\n",
        "\u001b[0;32m/usr/local/lib/python2.7/site-packages/sklearn/linear_model/ridge.pyc\u001b[0m in \u001b[0;36mfit\u001b[0;34m(self, X, y, sample_weight)\u001b[0m\n\u001b[1;32m    485\u001b[0m         \u001b[0mself\u001b[0m \u001b[0;34m:\u001b[0m \u001b[0mreturns\u001b[0m \u001b[0man\u001b[0m \u001b[0minstance\u001b[0m \u001b[0mof\u001b[0m \u001b[0mself\u001b[0m\u001b[0;34m.\u001b[0m\u001b[0;34m\u001b[0m\u001b[0m\n\u001b[1;32m    486\u001b[0m         \"\"\"\n\u001b[0;32m--> 487\u001b[0;31m         \u001b[0;32mreturn\u001b[0m \u001b[0msuper\u001b[0m\u001b[0;34m(\u001b[0m\u001b[0mRidge\u001b[0m\u001b[0;34m,\u001b[0m \u001b[0mself\u001b[0m\u001b[0;34m)\u001b[0m\u001b[0;34m.\u001b[0m\u001b[0mfit\u001b[0m\u001b[0;34m(\u001b[0m\u001b[0mX\u001b[0m\u001b[0;34m,\u001b[0m \u001b[0my\u001b[0m\u001b[0;34m,\u001b[0m \u001b[0msample_weight\u001b[0m\u001b[0;34m=\u001b[0m\u001b[0msample_weight\u001b[0m\u001b[0;34m)\u001b[0m\u001b[0;34m\u001b[0m\u001b[0m\n\u001b[0m\u001b[1;32m    488\u001b[0m \u001b[0;34m\u001b[0m\u001b[0m\n\u001b[1;32m    489\u001b[0m \u001b[0;34m\u001b[0m\u001b[0m\n",
        "\u001b[0;32m/usr/local/lib/python2.7/site-packages/sklearn/linear_model/ridge.pyc\u001b[0m in \u001b[0;36mfit\u001b[0;34m(self, X, y, sample_weight)\u001b[0m\n\u001b[1;32m    374\u001b[0m                                       \u001b[0mmax_iter\u001b[0m\u001b[0;34m=\u001b[0m\u001b[0mself\u001b[0m\u001b[0;34m.\u001b[0m\u001b[0mmax_iter\u001b[0m\u001b[0;34m,\u001b[0m\u001b[0;34m\u001b[0m\u001b[0m\n\u001b[1;32m    375\u001b[0m                                       \u001b[0mtol\u001b[0m\u001b[0;34m=\u001b[0m\u001b[0mself\u001b[0m\u001b[0;34m.\u001b[0m\u001b[0mtol\u001b[0m\u001b[0;34m,\u001b[0m\u001b[0;34m\u001b[0m\u001b[0m\n\u001b[0;32m--> 376\u001b[0;31m                                       solver=solver)\n\u001b[0m\u001b[1;32m    377\u001b[0m         \u001b[0mself\u001b[0m\u001b[0;34m.\u001b[0m\u001b[0m_set_intercept\u001b[0m\u001b[0;34m(\u001b[0m\u001b[0mX_mean\u001b[0m\u001b[0;34m,\u001b[0m \u001b[0my_mean\u001b[0m\u001b[0;34m,\u001b[0m \u001b[0mX_std\u001b[0m\u001b[0;34m)\u001b[0m\u001b[0;34m\u001b[0m\u001b[0m\n\u001b[1;32m    378\u001b[0m         \u001b[0;32mreturn\u001b[0m \u001b[0mself\u001b[0m\u001b[0;34m\u001b[0m\u001b[0m\n",
        "\u001b[0;32m/usr/local/lib/python2.7/site-packages/sklearn/linear_model/ridge.pyc\u001b[0m in \u001b[0;36mridge_regression\u001b[0;34m(X, y, alpha, sample_weight, solver, max_iter, tol)\u001b[0m\n\u001b[1;32m    318\u001b[0m             \u001b[0;32mtry\u001b[0m\u001b[0;34m:\u001b[0m\u001b[0;34m\u001b[0m\u001b[0m\n\u001b[1;32m    319\u001b[0m                 dual_coef = _solve_cholesky_kernel(K, y, alpha,\n\u001b[0;32m--> 320\u001b[0;31m                                                          sample_weight)\n\u001b[0m\u001b[1;32m    321\u001b[0m \u001b[0;34m\u001b[0m\u001b[0m\n\u001b[1;32m    322\u001b[0m                 \u001b[0mcoef\u001b[0m \u001b[0;34m=\u001b[0m \u001b[0msafe_sparse_dot\u001b[0m\u001b[0;34m(\u001b[0m\u001b[0mX\u001b[0m\u001b[0;34m.\u001b[0m\u001b[0mT\u001b[0m\u001b[0;34m,\u001b[0m \u001b[0mdual_coef\u001b[0m\u001b[0;34m,\u001b[0m \u001b[0mdense_output\u001b[0m\u001b[0;34m=\u001b[0m\u001b[0mTrue\u001b[0m\u001b[0;34m)\u001b[0m\u001b[0;34m.\u001b[0m\u001b[0mT\u001b[0m\u001b[0;34m\u001b[0m\u001b[0m\n",
        "\u001b[0;32m/usr/local/lib/python2.7/site-packages/sklearn/linear_model/ridge.pyc\u001b[0m in \u001b[0;36m_solve_cholesky_kernel\u001b[0;34m(K, y, alpha, sample_weight)\u001b[0m\n\u001b[1;32m    136\u001b[0m     \u001b[0;32mif\u001b[0m \u001b[0mone_alpha\u001b[0m\u001b[0;34m:\u001b[0m\u001b[0;34m\u001b[0m\u001b[0m\n\u001b[1;32m    137\u001b[0m         \u001b[0;31m# Only one penalty, we can solve multi-target problems in one time.\u001b[0m\u001b[0;34m\u001b[0m\u001b[0;34m\u001b[0m\u001b[0m\n\u001b[0;32m--> 138\u001b[0;31m         \u001b[0mK\u001b[0m\u001b[0;34m.\u001b[0m\u001b[0mflat\u001b[0m\u001b[0;34m[\u001b[0m\u001b[0;34m:\u001b[0m\u001b[0;34m:\u001b[0m\u001b[0mn_samples\u001b[0m \u001b[0;34m+\u001b[0m \u001b[0;36m1\u001b[0m\u001b[0;34m]\u001b[0m \u001b[0;34m+=\u001b[0m \u001b[0malpha\u001b[0m\u001b[0;34m[\u001b[0m\u001b[0;36m0\u001b[0m\u001b[0;34m]\u001b[0m\u001b[0;34m\u001b[0m\u001b[0m\n\u001b[0m\u001b[1;32m    139\u001b[0m \u001b[0;34m\u001b[0m\u001b[0m\n\u001b[1;32m    140\u001b[0m         \u001b[0mdual_coef\u001b[0m \u001b[0;34m=\u001b[0m \u001b[0mlinalg\u001b[0m\u001b[0;34m.\u001b[0m\u001b[0msolve\u001b[0m\u001b[0;34m(\u001b[0m\u001b[0mK\u001b[0m\u001b[0;34m,\u001b[0m \u001b[0my\u001b[0m\u001b[0;34m,\u001b[0m \u001b[0msym_pos\u001b[0m\u001b[0;34m=\u001b[0m\u001b[0mTrue\u001b[0m\u001b[0;34m,\u001b[0m \u001b[0moverwrite_a\u001b[0m\u001b[0;34m=\u001b[0m\u001b[0mTrue\u001b[0m\u001b[0;34m)\u001b[0m\u001b[0;34m\u001b[0m\u001b[0m\n",
        "\u001b[0;31mTypeError\u001b[0m: unsupported operand type(s) for +: 'float' and 'dict'"
       ]
      }
     ],
     "prompt_number": 7
    },
    {
     "cell_type": "code",
     "collapsed": false,
     "input": [],
     "language": "python",
     "metadata": {},
     "outputs": []
    },
    {
     "cell_type": "code",
     "collapsed": false,
     "input": [],
     "language": "python",
     "metadata": {},
     "outputs": []
    },
    {
     "cell_type": "code",
     "collapsed": false,
     "input": [
      "sklearn.svm.LinearSVC"
     ],
     "language": "python",
     "metadata": {},
     "outputs": [],
     "prompt_number": 4
    },
    {
     "cell_type": "code",
     "collapsed": false,
     "input": [],
     "language": "python",
     "metadata": {},
     "outputs": [],
     "prompt_number": 4
    },
    {
     "cell_type": "code",
     "collapsed": false,
     "input": [],
     "language": "python",
     "metadata": {},
     "outputs": []
    }
   ],
   "metadata": {}
  }
 ]
}
