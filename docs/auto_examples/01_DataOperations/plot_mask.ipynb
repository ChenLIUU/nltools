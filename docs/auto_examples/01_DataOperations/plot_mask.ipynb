{
  "nbformat_minor": 0, 
  "nbformat": 4, 
  "cells": [
    {
      "execution_count": null, 
      "cell_type": "code", 
      "source": [
        "%matplotlib inline"
      ], 
      "outputs": [], 
      "metadata": {
        "collapsed": false
      }
    }, 
    {
      "source": [
        " \nMasking Example\n===============\nThis tutorial illustrates methods to help with masking data.\n\n\n"
      ], 
      "cell_type": "markdown", 
      "metadata": {}
    }, 
    {
      "source": [
        "Load Data\n---------\n\nFirst, let's load the pain data for this example.\n\n"
      ], 
      "cell_type": "markdown", 
      "metadata": {}
    }, 
    {
      "execution_count": null, 
      "cell_type": "code", 
      "source": [
        "from nltools.datasets import fetch_pain\n\ndata = fetch_pain()"
      ], 
      "outputs": [], 
      "metadata": {
        "collapsed": false
      }
    }, 
    {
      "source": [
        "Apply_Mask\n----------\n\nSpherical masks can be created using the create_sphere function.\nIt requires specifying a center voxel and the radius of the sphere.\n\n"
      ], 
      "cell_type": "markdown", 
      "metadata": {}
    }, 
    {
      "execution_count": null, 
      "cell_type": "code", 
      "source": [
        "from nltools.mask import create_sphere\n\nmask = create_sphere([0, 0, 0], radius=30)\nmasked_data = data.apply_mask(mask)\nmasked_data.mean().plot()"
      ], 
      "outputs": [], 
      "metadata": {
        "collapsed": false
      }
    }, 
    {
      "source": [
        "Extract Mean Within ROI\n-----------------------\n\nWe can easily calculate the mean within an ROI for each image within a \nBrain_Data() instance using the extract_roi() method. \n\n"
      ], 
      "cell_type": "markdown", 
      "metadata": {}
    }, 
    {
      "execution_count": null, 
      "cell_type": "code", 
      "source": [
        "import matplotlib.pyplot as plt\n\nmean = data.extract_roi(mask)\nplt.plot(mean)"
      ], 
      "outputs": [], 
      "metadata": {
        "collapsed": false
      }
    }, 
    {
      "source": [
        "Expand and Contract ROIs\n------------------------\n\nSome masks have many ROIs indicated by a unique ID.  It is possible to\nexpand these masks into separate ROIs and also collapse them into a single\nimage again.  Here we will demonstrate on a k=50 parcellation hosted on\nhttp://neurovault.org.\n\n"
      ], 
      "cell_type": "markdown", 
      "metadata": {}
    }, 
    {
      "execution_count": null, 
      "cell_type": "code", 
      "source": [
        "from nltools.mask import expand_mask, collapse_mask\nfrom nltools.data import Brain_Data\n\nmask = Brain_Data('http://neurovault.org/media/images/2099/Neurosynth%20Parcellation_0.nii.gz')\nmask.plot()"
      ], 
      "outputs": [], 
      "metadata": {
        "collapsed": false
      }
    }, 
    {
      "source": [
        "We can expand this mask into 50 separate regions\n\n"
      ], 
      "cell_type": "markdown", 
      "metadata": {}
    }, 
    {
      "execution_count": null, 
      "cell_type": "code", 
      "source": [
        "mask_x = expand_mask(mask)\nmask_x.plot()"
      ], 
      "outputs": [], 
      "metadata": {
        "collapsed": false
      }
    }, 
    {
      "source": [
        "We can collapse these 50 separate regions as unique values in a single image \n\n"
      ], 
      "cell_type": "markdown", 
      "metadata": {}
    }, 
    {
      "execution_count": null, 
      "cell_type": "code", 
      "source": [
        "mask_c = collapse_mask(mask_x)\nmask_c.plot()"
      ], 
      "outputs": [], 
      "metadata": {
        "collapsed": false
      }
    }, 
    {
      "source": [
        "Threshold and Regions\n---------------------\n\nImages can be thresholded using an arbitrary cutoff or a percentile using the \nthreshold method.  Here we calculate the mean of the high pain images and\nthreshold using the 95 percentile.\n\n"
      ], 
      "cell_type": "markdown", 
      "metadata": {}
    }, 
    {
      "execution_count": null, 
      "cell_type": "code", 
      "source": [
        "import numpy as np\n\nhigh = data[np.where(data.X['PainLevel']==3)[0]]\nhigh.mean().threshold(threshold='95%').plot()"
      ], 
      "outputs": [], 
      "metadata": {
        "collapsed": false
      }
    }, 
    {
      "source": [
        "We might be interested in creating a binary mask from this threshold.\n\n"
      ], 
      "cell_type": "markdown", 
      "metadata": {}
    }, 
    {
      "execution_count": null, 
      "cell_type": "code", 
      "source": [
        "mask = high.mean().threshold(threshold='95%',binarize=True)\nmask.plot()"
      ], 
      "outputs": [], 
      "metadata": {
        "collapsed": false
      }
    }, 
    {
      "source": [
        "We might also want to create separate images from each contiguous ROI.\n\n"
      ], 
      "cell_type": "markdown", 
      "metadata": {}
    }, 
    {
      "execution_count": null, 
      "cell_type": "code", 
      "source": [
        "region = high.mean().threshold(threshold='95%').regions()\nregion.plot()"
      ], 
      "outputs": [], 
      "metadata": {
        "collapsed": false
      }
    }
  ], 
  "metadata": {
    "kernelspec": {
      "display_name": "Python 2", 
      "name": "python2", 
      "language": "python"
    }, 
    "language_info": {
      "mimetype": "text/x-python", 
      "nbconvert_exporter": "python", 
      "name": "python", 
      "file_extension": ".py", 
      "version": "2.7.12", 
      "pygments_lexer": "ipython2", 
      "codemirror_mode": {
        "version": 2, 
        "name": "ipython"
      }
    }
  }
}