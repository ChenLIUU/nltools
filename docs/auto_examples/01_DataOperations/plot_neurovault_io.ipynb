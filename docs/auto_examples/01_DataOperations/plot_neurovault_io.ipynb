{
  "nbformat_minor": 0, 
  "nbformat": 4, 
  "cells": [
    {
      "execution_count": null, 
      "cell_type": "code", 
      "source": [
        "%matplotlib inline"
      ], 
      "outputs": [], 
      "metadata": {
        "collapsed": false
      }
    }, 
    {
      "source": [
        " \nNeurovault I/O\n==============\nData can be easily downloaded and uploaded to neurovault.\n\n\n"
      ], 
      "cell_type": "markdown", 
      "metadata": {}
    }, 
    {
      "source": [
        "Download a Collection\n---------------------\n\nEntire collections from neurovault can be downloaded along with the\naccompanying image metadata.  You just need to know the collection ID.\n\n"
      ], 
      "cell_type": "markdown", 
      "metadata": {}
    }, 
    {
      "execution_count": null, 
      "cell_type": "code", 
      "source": [
        "from nltools.datasets import download_collection\nfrom nltools.data import Brain_Data\n\nmetadata,files = download_collection(collection=2099)\nmask = Brain_Data(files,X=metadata)"
      ], 
      "outputs": [], 
      "metadata": {
        "collapsed": false
      }
    }, 
    {
      "source": [
        "Download a Single Image from the Web\n------------------------------------\n\nIt's possible to load a single image from a web URL using the Brain_Data \nload method.  The files are downloaded to a temporary directory and will \neventually be erased by your computer so be sure to write it out to a file \nif you would like to save it.  Here we plot it using nilearn's glass brain\nfunction.\n\n"
      ], 
      "cell_type": "markdown", 
      "metadata": {}
    }, 
    {
      "execution_count": null, 
      "cell_type": "code", 
      "source": [
        "from nilearn.plotting import plot_glass_brain\n\nmask = Brain_Data('http://neurovault.org/media/images/2099/Neurosynth%20Parcellation_0.nii.gz')\n\nplot_glass_brain(mask.to_nifti())"
      ], 
      "outputs": [], 
      "metadata": {
        "collapsed": false
      }
    }, 
    {
      "source": [
        "Upload Data to Neurovault\n-------------------------\n\nThere is a method to easily upload a Brain_Data() instance to \nhttp://neurovault.org.  This requires using your api key, which can be found\nunder your account settings.  Anything stored in data.X will be uploaded as\nimage metadata.  The required fields include collection_name, the img_type,\nimg_modality, and analysis_level.  See https://github.com/neurolearn/pyneurovault_upload\nfor additional information.\n\n"
      ], 
      "cell_type": "markdown", 
      "metadata": {}
    }, 
    {
      "execution_count": null, 
      "cell_type": "code", 
      "source": [
        "api_key = 'your_neurovault_api_key'\n\n# mask.upload_neurovault(access_token=api_key, collection_name='Neurosynth Parcellation', \n#                        img_type='Pa', img_modality='Other',analysis_level='M')"
      ], 
      "outputs": [], 
      "metadata": {
        "collapsed": false
      }
    }
  ], 
  "metadata": {
    "kernelspec": {
      "display_name": "Python 2", 
      "name": "python2", 
      "language": "python"
    }, 
    "language_info": {
      "mimetype": "text/x-python", 
      "nbconvert_exporter": "python", 
      "name": "python", 
      "file_extension": ".py", 
      "version": "2.7.12", 
      "pygments_lexer": "ipython2", 
      "codemirror_mode": {
        "version": 2, 
        "name": "ipython"
      }
    }
  }
}