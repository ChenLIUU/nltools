{
  "nbformat_minor": 0, 
  "nbformat": 4, 
  "cells": [
    {
      "execution_count": null, 
      "cell_type": "code", 
      "source": [
        "%matplotlib inline"
      ], 
      "outputs": [], 
      "metadata": {
        "collapsed": false
      }
    }, 
    {
      "source": [
        " \nSimilarity and Distance\n===========\nThis tutorial illustrates how to calculate similarity and distance between images.\n\n\n"
      ], 
      "cell_type": "markdown", 
      "metadata": {}
    }, 
    {
      "source": [
        "Load Data\n---------------------------------------------------\n\nFirst, let's load the pain data for this example.\n\n"
      ], 
      "cell_type": "markdown", 
      "metadata": {}
    }, 
    {
      "execution_count": null, 
      "cell_type": "code", 
      "source": [
        "from nltools.datasets import fetch_pain\n\ndata = fetch_pain()"
      ], 
      "outputs": [], 
      "metadata": {
        "collapsed": false
      }
    }, 
    {
      "source": [
        "Distance\n---------------------------------------------------------\n\nWe can calculate the pairwise spatial distance between all images in a Brain_Data()\ninstance using any method from sklearn or scipy.  This outputs an Adjacency() class\nobject.\n\n"
      ], 
      "cell_type": "markdown", 
      "metadata": {}
    }, 
    {
      "execution_count": null, 
      "cell_type": "code", 
      "source": [
        "d = data.distance(method='correlation')\nd.plot()"
      ], 
      "outputs": [], 
      "metadata": {
        "collapsed": false
      }
    }, 
    {
      "source": [
        "Similarity\n---------------------------------------------------\n\nThe similarity of an image to other images can be computed using the similarity()\nmethod.  Here we calculate the mean image for high pain intensity across all participants\nand calculate the degree of spatial similarity between this image and all pain intensities\nfor all participants.  This is a useful method for calculating pattern responses.\n\n"
      ], 
      "cell_type": "markdown", 
      "metadata": {}
    }, 
    {
      "execution_count": null, 
      "cell_type": "code", 
      "source": [
        "import numpy as np\nimport matplotlib.pylab as plt\n\nhigh = data[np.where(data.X['PainLevel']==3)[0]].mean()\nr = high.similarity(data, method='correlation')\n\nf,a = plt.subplots(ncols=2,figsize=(10,4))\na[0].hist(r)\na[0].set_ylabel('Spatial Similarity')\na[0].set_xlabel('Pain Intensity')\na[0].set_title('Histogram of similarity with mean high intensity image')\na[1].scatter(data.X['PainLevel'],r)\na[1].set_ylabel('Spatial Similarity')\na[1].set_xlabel('Pain Intensity')\na[1].set_title('Spatial Similarity by Pain Intensity')"
      ], 
      "outputs": [], 
      "metadata": {
        "collapsed": false
      }
    }
  ], 
  "metadata": {
    "kernelspec": {
      "display_name": "Python 2", 
      "name": "python2", 
      "language": "python"
    }, 
    "language_info": {
      "mimetype": "text/x-python", 
      "nbconvert_exporter": "python", 
      "name": "python", 
      "file_extension": ".py", 
      "version": "2.7.12", 
      "pygments_lexer": "ipython2", 
      "codemirror_mode": {
        "version": 2, 
        "name": "ipython"
      }
    }
  }
}