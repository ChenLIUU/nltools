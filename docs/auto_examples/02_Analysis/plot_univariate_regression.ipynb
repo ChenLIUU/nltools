{
  "nbformat_minor": 0, 
  "nbformat": 4, 
  "cells": [
    {
      "execution_count": null, 
      "cell_type": "code", 
      "source": [
        "%matplotlib inline"
      ], 
      "outputs": [], 
      "metadata": {
        "collapsed": false
      }
    }, 
    {
      "source": [
        "\nExample of two level univariate regression on simulated data\n============================================================\n\nThis example simulates data according to a very simple sketch of brain\nimaging data and applies a standard two-level univariate GLM to identify\nsignificant voxels.\n\n\n"
      ], 
      "cell_type": "markdown", 
      "metadata": {}
    }, 
    {
      "execution_count": null, 
      "cell_type": "code", 
      "source": [
        "#\n# Load Modules\n\nimport glob\nimport numpy as np\nimport pandas as pd\nimport seaborn as sns\nimport os\nimport sys\nfrom nltools.simulator import Simulator\nfrom nltools.utils import get_resource_path, get_anatomical\nfrom nltools.analysis import Roc\nfrom nltools.data import Brain_Data\nfrom nltools.stats import threshold\nfrom nltools.mask import create_sphere\nimport matplotlib.pyplot as plt\nimport shutil\nimport tempfile\n\ntmp_dir = os.path.join(tempfile.gettempdir(), str(os.times()[-1]))"
      ], 
      "outputs": [], 
      "metadata": {
        "collapsed": false
      }
    }, 
    {
      "source": [
        "Create data\n\n"
      ], 
      "cell_type": "markdown", 
      "metadata": {}
    }, 
    {
      "execution_count": null, 
      "cell_type": "code", 
      "source": [
        "sim = Simulator()\nr=10\nsigma = .5\ncor = .8\ncov = .6\nn_trials = 10\nn_subs = 5\ns1 = create_sphere([41, 64, 55], radius=r)\nsim.create_cov_data(cor, cov, sigma, mask=s1, reps = n_trials, n_sub = n_subs, output_dir = tmp_dir)"
      ], 
      "outputs": [], 
      "metadata": {
        "collapsed": false
      }
    }, 
    {
      "source": [
        "Load data\n\n"
      ], 
      "cell_type": "markdown", 
      "metadata": {}
    }, 
    {
      "execution_count": null, 
      "cell_type": "code", 
      "source": [
        "y=pd.read_csv(os.path.join(tmp_dir,'y.csv'),header=None,index_col=None).T\ndat = Brain_Data(data=os.path.join(tmp_dir,'maskdata_cor0.8_cov0.6_sigma0.5.nii.gz'),Y=y)\ndat.X = pd.DataFrame({'Intercept':np.ones(len(dat.Y)),'X1':np.array(dat.Y).flatten()},index=None)\nholdout = pd.read_csv(os.path.join(tmp_dir,'rep_id.csv'),header=None,index_col=None).T"
      ], 
      "outputs": [], 
      "metadata": {
        "collapsed": false
      }
    }, 
    {
      "source": [
        "Run Regression separately for each subject\n\n"
      ], 
      "cell_type": "markdown", 
      "metadata": {}
    }, 
    {
      "execution_count": null, 
      "cell_type": "code", 
      "source": [
        "start = 0\nstop = n_trials\ndat.X = pd.DataFrame({'Intercept':np.ones(len(dat.Y)),'X1':np.array(dat.Y).flatten()},index=None)\nall = dat.empty()\nfor i in xrange(n_subs):\n    sub_out = dat[start:stop].regress()\n    start = start + n_trials\n    stop = stop + n_trials\n    tmp = sub_out['beta'].empty(data=False)[1]\n    all = all.append(tmp)"
      ], 
      "outputs": [], 
      "metadata": {
        "collapsed": false
      }
    }, 
    {
      "source": [
        "Run One sample t-test\n\n"
      ], 
      "cell_type": "markdown", 
      "metadata": {}
    }, 
    {
      "execution_count": null, 
      "cell_type": "code", 
      "source": [
        "l2 = all.ttest(threshold_dict={'fdr':.05})\nl2['thr_t'].plot()\n\nshutil.rmtree(tmp_dir, ignore_errors=True) # Delete Data"
      ], 
      "outputs": [], 
      "metadata": {
        "collapsed": false
      }
    }
  ], 
  "metadata": {
    "kernelspec": {
      "display_name": "Python 2", 
      "name": "python2", 
      "language": "python"
    }, 
    "language_info": {
      "mimetype": "text/x-python", 
      "nbconvert_exporter": "python", 
      "name": "python", 
      "file_extension": ".py", 
      "version": "2.7.12", 
      "pygments_lexer": "ipython2", 
      "codemirror_mode": {
        "version": 2, 
        "name": "ipython"
      }
    }
  }
}