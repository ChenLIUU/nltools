{
  "nbformat_minor": 0, 
  "nbformat": 4, 
  "cells": [
    {
      "execution_count": null, 
      "cell_type": "code", 
      "source": [
        "%matplotlib inline"
      ], 
      "outputs": [], 
      "metadata": {
        "collapsed": false
      }
    }, 
    {
      "source": [
        " \nMultivariate Prediction\n=======================\n\nRunning MVPA style analyses using multivariate regression is even easier and faster \nthan univariate methods. All you need to do is specify the algorithm and \ncross-validation parameters. Currently, we have several different linear algorithms\nimplemented from `scikit-learn <http://scikit-learn.org/stable/>`_.\n\n\n"
      ], 
      "cell_type": "markdown", 
      "metadata": {}
    }, 
    {
      "source": [
        "Load Data\n---------\n\nFirst, let's load the pain data for this example.  We need to specify the\ntraining levels.  We will grab the pain intensity variable from the data.X\nfield.\n\n"
      ], 
      "cell_type": "markdown", 
      "metadata": {}
    }, 
    {
      "execution_count": null, 
      "cell_type": "code", 
      "source": [
        "from nltools.datasets import fetch_pain\n\ndata = fetch_pain()\ndata.Y = data.X['PainLevel']"
      ], 
      "outputs": [], 
      "metadata": {
        "collapsed": false
      }
    }, 
    {
      "source": [
        "Prediction with Cross-Validation\n--------------------------------\n\nWe can now predict the output variable is a dictionary of the most \nuseful output from the prediction analyses. The predict function runs \nthe prediction multiple times. One of the iterations uses all of the \ndata to calculate the 'weight_map'. The other iterations are to estimate \nthe cross-validated predictive accuracy.\n\n"
      ], 
      "cell_type": "markdown", 
      "metadata": {}
    }, 
    {
      "execution_count": null, 
      "cell_type": "code", 
      "source": [
        "stats = data.predict(algorithm='ridge', \n                    cv_dict={'type': 'kfolds','n_folds': 5,'stratified':data.Y})"
      ], 
      "outputs": [], 
      "metadata": {
        "collapsed": false
      }
    }, 
    {
      "source": [
        "Display the available data in the output dictionary\n\n"
      ], 
      "cell_type": "markdown", 
      "metadata": {}
    }, 
    {
      "execution_count": null, 
      "cell_type": "code", 
      "source": [
        "stats.keys()"
      ], 
      "outputs": [], 
      "metadata": {
        "collapsed": false
      }
    }, 
    {
      "source": [
        "Plot the multivariate weight map\n\n"
      ], 
      "cell_type": "markdown", 
      "metadata": {}
    }, 
    {
      "execution_count": null, 
      "cell_type": "code", 
      "source": [
        "stats['weight_map'].plot()"
      ], 
      "outputs": [], 
      "metadata": {
        "collapsed": false
      }
    }, 
    {
      "source": [
        "Return the cross-validated predicted data\n\n"
      ], 
      "cell_type": "markdown", 
      "metadata": {}
    }, 
    {
      "execution_count": null, 
      "cell_type": "code", 
      "source": [
        "stats['yfit_xval']"
      ], 
      "outputs": [], 
      "metadata": {
        "collapsed": false
      }
    }, 
    {
      "source": [
        "Algorithms\n----------\n\nThere are several types of linear algorithms implemented including:\nSupport Vector Machines (svr), Principal Components Analysis (pcr), and \npenalized methods such as ridge and lasso.  These examples use 5-fold\ncross-validation holding out the same subject in each fold.\n\n"
      ], 
      "cell_type": "markdown", 
      "metadata": {}
    }, 
    {
      "execution_count": null, 
      "cell_type": "code", 
      "source": [
        "subject_id = data.X['SubjectID']\nsvr_stats = data.predict(algorithm='svr', \n                        cv_dict={'type': 'kfolds','n_folds': 5,\n                        'subject_id':subject_id}, **{'kernel':\"linear\"})"
      ], 
      "outputs": [], 
      "metadata": {
        "collapsed": false
      }
    }, 
    {
      "source": [
        "Lasso Regression\n\n"
      ], 
      "cell_type": "markdown", 
      "metadata": {}
    }, 
    {
      "execution_count": null, 
      "cell_type": "code", 
      "source": [
        "lasso_stats = data.predict(algorithm='lasso', \n                        cv_dict={'type': 'kfolds','n_folds': 5,\n                        'subject_id':subject_id}, **{'alpha':.1})"
      ], 
      "outputs": [], 
      "metadata": {
        "collapsed": false
      }
    }, 
    {
      "source": [
        "Principal Components Regression\n\n"
      ], 
      "cell_type": "markdown", 
      "metadata": {}
    }, 
    {
      "execution_count": null, 
      "cell_type": "code", 
      "source": [
        "pcr_stats = data.predict(algorithm='pcr', \n                        cv_dict={'type': 'kfolds','n_folds': 5,\n                        'subject_id':subject_id})"
      ], 
      "outputs": [], 
      "metadata": {
        "collapsed": false
      }
    }, 
    {
      "source": [
        "Cross-Validation Schemes\n------------------------\n\nThere are several different ways to perform cross-validation.  The standard \napproach is to use k-folds, where the data is equally divided into k subsets\nand each fold serves as both training and test.  \nOften we want to hold out the same subjects in each fold.  \nThis can be done by passing in a vector of unique subject IDs that \ncorrespond to the images in the data frame.\n\n"
      ], 
      "cell_type": "markdown", 
      "metadata": {}
    }, 
    {
      "execution_count": null, 
      "cell_type": "code", 
      "source": [
        "subject_id = data.X['SubjectID']\nridge_stats = data.predict(algorithm='ridge', \n                        cv_dict={'type': 'kfolds','n_folds': 5,'subject_id':subject_id}, \n                        plot=False, **{'alpha':.1})"
      ], 
      "outputs": [], 
      "metadata": {
        "collapsed": false
      }
    }, 
    {
      "source": [
        "Sometimes we want to ensure that the training labels are balanced across \nfolds.  This can be done using the stratified k-folds method.  \n\n"
      ], 
      "cell_type": "markdown", 
      "metadata": {}
    }, 
    {
      "execution_count": null, 
      "cell_type": "code", 
      "source": [
        "ridge_stats = data.predict(algorithm='ridge', \n                        cv_dict={'type': 'kfolds','n_folds': 5, 'stratified':data.Y}, \n                        plot=False, **{'alpha':.1})"
      ], 
      "outputs": [], 
      "metadata": {
        "collapsed": false
      }
    }, 
    {
      "source": [
        "Leave One Subject Out Cross-Validaiton (LOSO) is when k=n subjects.  \nThis can be performed by passing in a vector indicating subject id's of \neach image and using the loso flag.\n\n"
      ], 
      "cell_type": "markdown", 
      "metadata": {}
    }, 
    {
      "execution_count": null, 
      "cell_type": "code", 
      "source": [
        "ridge_stats = data.predict(algorithm='ridge', \n                        cv_dict={'type': 'loso','subject_id': subject_id}, \n                        plot=False, **{'alpha':.1})"
      ], 
      "outputs": [], 
      "metadata": {
        "collapsed": false
      }
    }, 
    {
      "source": [
        "There are also methods to estimate the shrinkage parameter for the \npenalized methods using nested crossvalidation with the \nridgeCV and lassoCV algorithms.\n\n"
      ], 
      "cell_type": "markdown", 
      "metadata": {}
    }, 
    {
      "execution_count": null, 
      "cell_type": "code", 
      "source": [
        "import numpy as np\n\nridgecv_stats = data.predict(algorithm='ridgeCV', \n                        cv_dict={'type': 'kfolds','n_folds': 5, 'stratified':data.Y}, \n                        plot=False, **{'alphas':np.linspace(.1, 10, 5)})"
      ], 
      "outputs": [], 
      "metadata": {
        "collapsed": false
      }
    }
  ], 
  "metadata": {
    "kernelspec": {
      "display_name": "Python 2", 
      "name": "python2", 
      "language": "python"
    }, 
    "language_info": {
      "mimetype": "text/x-python", 
      "nbconvert_exporter": "python", 
      "name": "python", 
      "file_extension": ".py", 
      "version": "2.7.12", 
      "pygments_lexer": "ipython2", 
      "codemirror_mode": {
        "version": 2, 
        "name": "ipython"
      }
    }
  }
}